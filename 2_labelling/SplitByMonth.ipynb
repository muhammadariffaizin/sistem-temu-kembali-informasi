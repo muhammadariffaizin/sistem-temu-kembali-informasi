{
 "cells": [
  {
   "cell_type": "code",
   "execution_count": 67,
   "metadata": {},
   "outputs": [],
   "source": [
    "import pandas as pd\n",
    "from patsy import dmatrices"
   ]
  },
  {
   "cell_type": "code",
   "execution_count": 78,
   "metadata": {},
   "outputs": [],
   "source": [
    "bungs_preprocessed = pd.read_csv(\"bungs_preprocessed.csv\")\n",
    "catatanali07_preprocessed = pd.read_csv(\"catatanali07_preprocessed.csv\")"
   ]
  },
  {
   "cell_type": "code",
   "execution_count": 79,
   "metadata": {},
   "outputs": [
    {
     "name": "stdout",
     "output_type": "stream",
     "text": [
      "121\n",
      "117\n",
      "9\n",
      "8\n"
     ]
    }
   ],
   "source": [
    "# convert to datetime\n",
    "bungs_preprocessed['Tweet Time'] = pd.to_datetime(bungs_preprocessed['Tweet Time'])\n",
    "bungs_months = [g for n, g in bungs_preprocessed.groupby(pd.Grouper(key='Tweet Time',freq='M'))]\n",
    "catatanali07_preprocessed['Tweet Time'] = pd.to_datetime(catatanali07_preprocessed['Tweet Time'])\n",
    "catatanali07_months = [g for n, g in catatanali07_preprocessed.groupby(pd.Grouper(key='Tweet Time',freq='M'))]\n",
    "\n",
    "# delete empty data raw\n",
    "print(len(bungs_months))\n",
    "bungs_month_split = [a for a in bungs_months if a.shape[0] > 0]\n",
    "print(len(bungs_month_split))\n",
    "\n",
    "print(len(catatanali07_months))\n",
    "catatanali07_month_split = [a for a in catatanali07_months if a.shape[0] > 0]\n",
    "print(len(catatanali07_month_split))"
   ]
  },
  {
   "cell_type": "code",
   "execution_count": 80,
   "metadata": {},
   "outputs": [],
   "source": [
    "for bungs_per_month in bungs_month_split:\n",
    "    filename = bungs_per_month['Tweet Time'].iloc[0].strftime(\"%Y\") + \"_\" + bungs_per_month['Tweet Time'].iloc[0].strftime(\"%b\") + \".csv\"\n",
    "    bungs_per_month.to_csv(\"bungs_month/\" + filename)\n",
    "\n",
    "for catatanali07_per_month in catatanali07_month_split:\n",
    "    filename = catatanali07_per_month['Tweet Time'].iloc[0].strftime(\"%Y\") + \"_\" + catatanali07_per_month['Tweet Time'].iloc[0].strftime(\"%b\") + \".csv\"\n",
    "    catatanali07_per_month.to_csv(\"catatanali07_month/\" + filename)"
   ]
  }
 ],
 "metadata": {
  "kernelspec": {
   "display_name": "Python 3.10.2 64-bit",
   "language": "python",
   "name": "python3"
  },
  "language_info": {
   "codemirror_mode": {
    "name": "ipython",
    "version": 3
   },
   "file_extension": ".py",
   "mimetype": "text/x-python",
   "name": "python",
   "nbconvert_exporter": "python",
   "pygments_lexer": "ipython3",
   "version": "3.10.2"
  },
  "orig_nbformat": 4,
  "vscode": {
   "interpreter": {
    "hash": "107d7b120a5b68773a87d4067e673630b35702e55ebab3138143d08b1c4d7cbc"
   }
  }
 },
 "nbformat": 4,
 "nbformat_minor": 2
}
