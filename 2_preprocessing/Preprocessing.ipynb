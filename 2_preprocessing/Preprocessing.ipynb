{
 "cells": [
  {
   "cell_type": "code",
   "execution_count": 1,
   "metadata": {},
   "outputs": [],
   "source": [
    "import pandas as pd"
   ]
  },
  {
   "cell_type": "markdown",
   "metadata": {},
   "source": [
    "# Merging with Yulian Data"
   ]
  },
  {
   "cell_type": "code",
   "execution_count": 2,
   "metadata": {},
   "outputs": [],
   "source": [
    "dang_speech_data = pd.read_csv(\"dang_speech.csv\")\n",
    "dang_speech_yulian = pd.read_csv(\"dang_speech_yulian.csv\", encoding=\"latin1\")"
   ]
  },
  {
   "cell_type": "code",
   "execution_count": 3,
   "metadata": {},
   "outputs": [
    {
     "data": {
      "text/html": [
       "<div>\n",
       "<style scoped>\n",
       "    .dataframe tbody tr th:only-of-type {\n",
       "        vertical-align: middle;\n",
       "    }\n",
       "\n",
       "    .dataframe tbody tr th {\n",
       "        vertical-align: top;\n",
       "    }\n",
       "\n",
       "    .dataframe thead th {\n",
       "        text-align: right;\n",
       "    }\n",
       "</style>\n",
       "<table border=\"1\" class=\"dataframe\">\n",
       "  <thead>\n",
       "    <tr style=\"text-align: right;\">\n",
       "      <th></th>\n",
       "      <th>Tweet</th>\n",
       "      <th>KS</th>\n",
       "      <th>KH</th>\n",
       "      <th>DH</th>\n",
       "      <th>TDH</th>\n",
       "      <th>SWA</th>\n",
       "      <th>LO</th>\n",
       "      <th>AK</th>\n",
       "    </tr>\n",
       "  </thead>\n",
       "  <tbody>\n",
       "    <tr>\n",
       "      <th>0</th>\n",
       "      <td>Sudah bodoh buat hoaks pula 👇🏻 https://t.co/qK...</td>\n",
       "      <td>0.0</td>\n",
       "      <td>0.0</td>\n",
       "      <td>1.0</td>\n",
       "      <td>1.0</td>\n",
       "      <td>0.0</td>\n",
       "      <td>0.0</td>\n",
       "      <td>0.0</td>\n",
       "    </tr>\n",
       "    <tr>\n",
       "      <th>1</th>\n",
       "      <td>Penggugatnya berarti bodoh , kalau mau cari ja...</td>\n",
       "      <td>0.0</td>\n",
       "      <td>0.0</td>\n",
       "      <td>1.0</td>\n",
       "      <td>1.0</td>\n",
       "      <td>0.0</td>\n",
       "      <td>0.0</td>\n",
       "      <td>0.0</td>\n",
       "    </tr>\n",
       "    <tr>\n",
       "      <th>2</th>\n",
       "      <td>Jangan arogan cul @PDI_Perjuangan , fokus saja...</td>\n",
       "      <td>0.0</td>\n",
       "      <td>0.0</td>\n",
       "      <td>0.0</td>\n",
       "      <td>1.0</td>\n",
       "      <td>0.0</td>\n",
       "      <td>0.0</td>\n",
       "      <td>0.0</td>\n",
       "    </tr>\n",
       "    <tr>\n",
       "      <th>3</th>\n",
       "      <td>RT @ChusnulCh__: Si b4nci gagap caper Iagi.😂😝\\...</td>\n",
       "      <td>0.0</td>\n",
       "      <td>0.0</td>\n",
       "      <td>1.0</td>\n",
       "      <td>0.0</td>\n",
       "      <td>0.0</td>\n",
       "      <td>0.0</td>\n",
       "      <td>0.0</td>\n",
       "    </tr>\n",
       "    <tr>\n",
       "      <th>4</th>\n",
       "      <td>Kadrot , kadrun peot 👇🏻 https://t.co/04vLXm1WBF</td>\n",
       "      <td>0.0</td>\n",
       "      <td>0.0</td>\n",
       "      <td>1.0</td>\n",
       "      <td>0.0</td>\n",
       "      <td>0.0</td>\n",
       "      <td>0.0</td>\n",
       "      <td>0.0</td>\n",
       "    </tr>\n",
       "  </tbody>\n",
       "</table>\n",
       "</div>"
      ],
      "text/plain": [
       "                                               Tweet   KS   KH   DH  TDH  SWA  \\\n",
       "0  Sudah bodoh buat hoaks pula 👇🏻 https://t.co/qK...  0.0  0.0  1.0  1.0  0.0   \n",
       "1  Penggugatnya berarti bodoh , kalau mau cari ja...  0.0  0.0  1.0  1.0  0.0   \n",
       "2  Jangan arogan cul @PDI_Perjuangan , fokus saja...  0.0  0.0  0.0  1.0  0.0   \n",
       "3  RT @ChusnulCh__: Si b4nci gagap caper Iagi.😂😝\\...  0.0  0.0  1.0  0.0  0.0   \n",
       "4    Kadrot , kadrun peot 👇🏻 https://t.co/04vLXm1WBF  0.0  0.0  1.0  0.0  0.0   \n",
       "\n",
       "    LO   AK  \n",
       "0  0.0  0.0  \n",
       "1  0.0  0.0  \n",
       "2  0.0  0.0  \n",
       "3  0.0  0.0  \n",
       "4  0.0  0.0  "
      ]
     },
     "metadata": {},
     "output_type": "display_data"
    },
    {
     "name": "stdout",
     "output_type": "stream",
     "text": [
      "(184, 8)\n"
     ]
    }
   ],
   "source": [
    "dang_speech_data = dang_speech_data[['Tweet Text', 'KS', 'KH', 'DH', 'TDH', 'SWA', 'LO', 'AK']].fillna(0).rename(columns={\"Tweet Text\": \"Tweet\"})\n",
    "display(dang_speech_data.head())\n",
    "print(dang_speech_data.shape)"
   ]
  },
  {
   "cell_type": "code",
   "execution_count": 4,
   "metadata": {},
   "outputs": [
    {
     "data": {
      "text/html": [
       "<div>\n",
       "<style scoped>\n",
       "    .dataframe tbody tr th:only-of-type {\n",
       "        vertical-align: middle;\n",
       "    }\n",
       "\n",
       "    .dataframe tbody tr th {\n",
       "        vertical-align: top;\n",
       "    }\n",
       "\n",
       "    .dataframe thead th {\n",
       "        text-align: right;\n",
       "    }\n",
       "</style>\n",
       "<table border=\"1\" class=\"dataframe\">\n",
       "  <thead>\n",
       "    <tr style=\"text-align: right;\">\n",
       "      <th></th>\n",
       "      <th>Tweet</th>\n",
       "      <th>KS</th>\n",
       "      <th>KH</th>\n",
       "      <th>DH</th>\n",
       "      <th>TDH</th>\n",
       "      <th>SWA</th>\n",
       "      <th>LO</th>\n",
       "      <th>AK</th>\n",
       "    </tr>\n",
       "  </thead>\n",
       "  <tbody>\n",
       "    <tr>\n",
       "      <th>0</th>\n",
       "      <td>Ini pasti salah Jokowi Ahok dan kafir-kafir at...</td>\n",
       "      <td>1.0</td>\n",
       "      <td>0.0</td>\n",
       "      <td>0.0</td>\n",
       "      <td>1.0</td>\n",
       "      <td>0.0</td>\n",
       "      <td>0.0</td>\n",
       "      <td>0.0</td>\n",
       "    </tr>\n",
       "    <tr>\n",
       "      <th>1</th>\n",
       "      <td>@fahmiabuazzam1 biar aja biar tai nya kena bap...</td>\n",
       "      <td>0.0</td>\n",
       "      <td>0.0</td>\n",
       "      <td>1.0</td>\n",
       "      <td>0.0</td>\n",
       "      <td>0.0</td>\n",
       "      <td>0.0</td>\n",
       "      <td>0.0</td>\n",
       "    </tr>\n",
       "    <tr>\n",
       "      <th>2</th>\n",
       "      <td>RT @Lupuz0503: Prestasi Ahok Selain mjadi mafi...</td>\n",
       "      <td>1.0</td>\n",
       "      <td>0.0</td>\n",
       "      <td>1.0</td>\n",
       "      <td>1.0</td>\n",
       "      <td>0.0</td>\n",
       "      <td>0.0</td>\n",
       "      <td>0.0</td>\n",
       "    </tr>\n",
       "    <tr>\n",
       "      <th>3</th>\n",
       "      <td>Ulama Kompak Nyatakan Haram Pemimpin Kafir Pil...</td>\n",
       "      <td>1.0</td>\n",
       "      <td>1.0</td>\n",
       "      <td>0.0</td>\n",
       "      <td>1.0</td>\n",
       "      <td>0.0</td>\n",
       "      <td>0.0</td>\n",
       "      <td>1.0</td>\n",
       "    </tr>\n",
       "    <tr>\n",
       "      <th>4</th>\n",
       "      <td>KAU PENDIKAN TINGGI TAPI BODOH....GK ADA LARAN...</td>\n",
       "      <td>1.0</td>\n",
       "      <td>0.0</td>\n",
       "      <td>0.0</td>\n",
       "      <td>1.0</td>\n",
       "      <td>0.0</td>\n",
       "      <td>0.0</td>\n",
       "      <td>0.0</td>\n",
       "    </tr>\n",
       "  </tbody>\n",
       "</table>\n",
       "</div>"
      ],
      "text/plain": [
       "                                               Tweet   KS   KH   DH  TDH  SWA  \\\n",
       "0  Ini pasti salah Jokowi Ahok dan kafir-kafir at...  1.0  0.0  0.0  1.0  0.0   \n",
       "1  @fahmiabuazzam1 biar aja biar tai nya kena bap...  0.0  0.0  1.0  0.0  0.0   \n",
       "2  RT @Lupuz0503: Prestasi Ahok Selain mjadi mafi...  1.0  0.0  1.0  1.0  0.0   \n",
       "3  Ulama Kompak Nyatakan Haram Pemimpin Kafir Pil...  1.0  1.0  0.0  1.0  0.0   \n",
       "4  KAU PENDIKAN TINGGI TAPI BODOH....GK ADA LARAN...  1.0  0.0  0.0  1.0  0.0   \n",
       "\n",
       "    LO   AK  \n",
       "0  0.0  0.0  \n",
       "1  0.0  0.0  \n",
       "2  0.0  0.0  \n",
       "3  0.0  1.0  \n",
       "4  0.0  0.0  "
      ]
     },
     "metadata": {},
     "output_type": "display_data"
    },
    {
     "name": "stdout",
     "output_type": "stream",
     "text": [
      "(900, 8)\n"
     ]
    },
    {
     "data": {
      "text/plain": [
       "KS     419.0\n",
       "KH     111.0\n",
       "DH     320.0\n",
       "TDH    670.0\n",
       "SWA      6.0\n",
       "LO       5.0\n",
       "AK     112.0\n",
       "dtype: float64"
      ]
     },
     "metadata": {},
     "output_type": "display_data"
    }
   ],
   "source": [
    "display(dang_speech_yulian.head())\n",
    "print(dang_speech_yulian.shape)\n",
    "\n",
    "display(dang_speech_yulian[['KS', 'KH', 'DH', 'TDH', 'SWA', 'LO', 'AK']].sum())"
   ]
  },
  {
   "cell_type": "code",
   "execution_count": 5,
   "metadata": {},
   "outputs": [
    {
     "data": {
      "text/html": [
       "<div>\n",
       "<style scoped>\n",
       "    .dataframe tbody tr th:only-of-type {\n",
       "        vertical-align: middle;\n",
       "    }\n",
       "\n",
       "    .dataframe tbody tr th {\n",
       "        vertical-align: top;\n",
       "    }\n",
       "\n",
       "    .dataframe thead th {\n",
       "        text-align: right;\n",
       "    }\n",
       "</style>\n",
       "<table border=\"1\" class=\"dataframe\">\n",
       "  <thead>\n",
       "    <tr style=\"text-align: right;\">\n",
       "      <th></th>\n",
       "      <th>Tweet</th>\n",
       "      <th>KS</th>\n",
       "      <th>KH</th>\n",
       "      <th>DH</th>\n",
       "      <th>TDH</th>\n",
       "      <th>SWA</th>\n",
       "      <th>LO</th>\n",
       "      <th>AK</th>\n",
       "    </tr>\n",
       "  </thead>\n",
       "  <tbody>\n",
       "    <tr>\n",
       "      <th>0</th>\n",
       "      <td>Sudah bodoh buat hoaks pula 👇🏻 https://t.co/qK...</td>\n",
       "      <td>0.0</td>\n",
       "      <td>0.0</td>\n",
       "      <td>1.0</td>\n",
       "      <td>1.0</td>\n",
       "      <td>0.0</td>\n",
       "      <td>0.0</td>\n",
       "      <td>0.0</td>\n",
       "    </tr>\n",
       "    <tr>\n",
       "      <th>1</th>\n",
       "      <td>Penggugatnya berarti bodoh , kalau mau cari ja...</td>\n",
       "      <td>0.0</td>\n",
       "      <td>0.0</td>\n",
       "      <td>1.0</td>\n",
       "      <td>1.0</td>\n",
       "      <td>0.0</td>\n",
       "      <td>0.0</td>\n",
       "      <td>0.0</td>\n",
       "    </tr>\n",
       "    <tr>\n",
       "      <th>2</th>\n",
       "      <td>Jangan arogan cul @PDI_Perjuangan , fokus saja...</td>\n",
       "      <td>0.0</td>\n",
       "      <td>0.0</td>\n",
       "      <td>0.0</td>\n",
       "      <td>1.0</td>\n",
       "      <td>0.0</td>\n",
       "      <td>0.0</td>\n",
       "      <td>0.0</td>\n",
       "    </tr>\n",
       "    <tr>\n",
       "      <th>3</th>\n",
       "      <td>RT @ChusnulCh__: Si b4nci gagap caper Iagi.😂😝\\...</td>\n",
       "      <td>0.0</td>\n",
       "      <td>0.0</td>\n",
       "      <td>1.0</td>\n",
       "      <td>0.0</td>\n",
       "      <td>0.0</td>\n",
       "      <td>0.0</td>\n",
       "      <td>0.0</td>\n",
       "    </tr>\n",
       "    <tr>\n",
       "      <th>4</th>\n",
       "      <td>Kadrot , kadrun peot 👇🏻 https://t.co/04vLXm1WBF</td>\n",
       "      <td>0.0</td>\n",
       "      <td>0.0</td>\n",
       "      <td>1.0</td>\n",
       "      <td>0.0</td>\n",
       "      <td>0.0</td>\n",
       "      <td>0.0</td>\n",
       "      <td>0.0</td>\n",
       "    </tr>\n",
       "  </tbody>\n",
       "</table>\n",
       "</div>"
      ],
      "text/plain": [
       "                                               Tweet   KS   KH   DH  TDH  SWA  \\\n",
       "0  Sudah bodoh buat hoaks pula 👇🏻 https://t.co/qK...  0.0  0.0  1.0  1.0  0.0   \n",
       "1  Penggugatnya berarti bodoh , kalau mau cari ja...  0.0  0.0  1.0  1.0  0.0   \n",
       "2  Jangan arogan cul @PDI_Perjuangan , fokus saja...  0.0  0.0  0.0  1.0  0.0   \n",
       "3  RT @ChusnulCh__: Si b4nci gagap caper Iagi.😂😝\\...  0.0  0.0  1.0  0.0  0.0   \n",
       "4    Kadrot , kadrun peot 👇🏻 https://t.co/04vLXm1WBF  0.0  0.0  1.0  0.0  0.0   \n",
       "\n",
       "    LO   AK  \n",
       "0  0.0  0.0  \n",
       "1  0.0  0.0  \n",
       "2  0.0  0.0  \n",
       "3  0.0  0.0  \n",
       "4  0.0  0.0  "
      ]
     },
     "execution_count": 5,
     "metadata": {},
     "output_type": "execute_result"
    }
   ],
   "source": [
    "dang_speech_merge = pd.concat([dang_speech_data, dang_speech_yulian], ignore_index=True)\n",
    "dang_speech_merge.head()"
   ]
  },
  {
   "cell_type": "code",
   "execution_count": 6,
   "metadata": {},
   "outputs": [
    {
     "data": {
      "text/plain": [
       "KS     477.0\n",
       "KH     118.0\n",
       "DH     398.0\n",
       "TDH    801.0\n",
       "SWA     11.0\n",
       "LO       5.0\n",
       "AK     117.0\n",
       "dtype: float64"
      ]
     },
     "metadata": {},
     "output_type": "display_data"
    },
    {
     "name": "stdout",
     "output_type": "stream",
     "text": [
      "(1084, 8)\n"
     ]
    }
   ],
   "source": [
    "display(dang_speech_merge[['KS', 'KH', 'DH', 'TDH', 'SWA', 'LO', 'AK']].sum())\n",
    "print(dang_speech_merge.shape)"
   ]
  },
  {
   "cell_type": "code",
   "execution_count": 7,
   "metadata": {},
   "outputs": [],
   "source": [
    "dang_speech_merge.to_csv(\"dang_speech_merge.csv\")"
   ]
  },
  {
   "cell_type": "markdown",
   "metadata": {},
   "source": [
    "# Make Model"
   ]
  },
  {
   "cell_type": "markdown",
   "metadata": {},
   "source": [
    "## Visualization"
   ]
  },
  {
   "cell_type": "code",
   "execution_count": 8,
   "metadata": {},
   "outputs": [],
   "source": [
    "import seaborn as sns\n",
    "import matplotlib.pyplot as plt"
   ]
  },
  {
   "cell_type": "code",
   "execution_count": 9,
   "metadata": {},
   "outputs": [
    {
     "data": {
      "image/png": "[encoded data removed]",
      "text/plain": [
       "<Figure size 1080x576 with 1 Axes>"
      ]
     },
     "metadata": {},
     "output_type": "display_data"
    }
   ],
   "source": [
    "categories = list(dang_speech_merge.columns.values)[1:]\n",
    "sns.set(font_scale = 2)\n",
    "plt.figure(figsize=(15,8))\n",
    "labels = dang_speech_merge.iloc[:,1:].sum().values\n",
    "ax=sns.barplot(x=categories, y=labels)\n",
    "\n",
    "plt.title(\"Dangerous Speech in each category\", fontsize=24)\n",
    "plt.ylabel('Number of tweets', fontsize=18)\n",
    "plt.xlabel('Tweet Type ', fontsize=18)#adding the text labels\n",
    "\n",
    "rects = ax.patches\n",
    "for rect, label in zip(rects, labels):\n",
    "    height = rect.get_height()\n",
    "    ax.text(rect.get_x() + rect.get_width()/2, height + 5, label, ha='center', va='bottom', fontsize=18)\n",
    "plt.show()"
   ]
  },
  {
   "cell_type": "markdown",
   "metadata": {},
   "source": [
    "## Preprocessing"
   ]
  },
  {
   "cell_type": "code",
   "execution_count": 10,
   "metadata": {},
   "outputs": [],
   "source": [
    "import re\n",
    "from tqdm import tqdm\n",
    "from nlp_id.tokenizer import Tokenizer\n",
    "from nlp_id.lemmatizer import Lemmatizer \n",
    "from Sastrawi.StopWordRemover.StopWordRemoverFactory import StopWordRemoverFactory, StopWordRemover, ArrayDictionary"
   ]
  },
  {
   "cell_type": "code",
   "execution_count": 11,
   "metadata": {},
   "outputs": [
    {
     "name": "stdout",
     "output_type": "stream",
     "text": [
      "          &                                          dan\n",
      "0         +                                       tambah\n",
      "1         /                                         atau\n",
      "2     22nya                                   dua-duanya\n",
      "3        3m  mencuci tangan memakai masker menjaga jarak\n",
      "4       7an                                       tujuan\n",
      "...     ...                                          ...\n",
      "5592  yyaaa                                           ya\n",
      "5593      z                                         saja\n",
      "5594     za                                         saja\n",
      "5595   zama                                        zaman\n",
      "5596   zonk                                        bodoh\n",
      "\n",
      "[5597 rows x 2 columns]\n"
     ]
    }
   ],
   "source": [
    "# Import kamus bahasa slang\n",
    "slang_dict = pd.read_csv('https://raw.githubusercontent.com/muhammadariffaizin/sistem-temu-kembali-informasi/master/list/slang.txt', delimiter = \";\")\n",
    "dict_slang = dict(slang_dict.values)\n",
    "print (slang_dict)"
   ]
  },
  {
   "cell_type": "code",
   "execution_count": 12,
   "metadata": {},
   "outputs": [
    {
     "name": "stdout",
     "output_type": "stream",
     "text": [
      "(67950, 17)\n",
      "(1209, 17)\n"
     ]
    },
    {
     "name": "stderr",
     "output_type": "stream",
     "text": [
      "c:\\ProgramData\\Anaconda3\\lib\\site-packages\\IPython\\core\\interactiveshell.py:3444: DtypeWarning: Columns (9) have mixed types.Specify dtype option on import or set low_memory=False.\n",
      "  exec(code_obj, self.user_global_ns, self.user_ns)\n"
     ]
    }
   ],
   "source": [
    "bungs = pd.read_csv(\"bungs.csv\")\n",
    "print(bungs.shape)\n",
    "\n",
    "catatanali07 = pd.read_csv(\"catatanali07.csv\")\n",
    "print(catatanali07.shape)"
   ]
  },
  {
   "cell_type": "code",
   "execution_count": 13,
   "metadata": {},
   "outputs": [],
   "source": [
    "lemmatizer = Lemmatizer()\n",
    "tokenizer = Tokenizer()\n",
    "stop_factory = StopWordRemoverFactory()\n",
    "\n",
    "data_stopword = stop_factory.get_stop_words()"
   ]
  },
  {
   "cell_type": "code",
   "execution_count": 14,
   "metadata": {},
   "outputs": [],
   "source": [
    "def preprocess(s):\n",
    "    s = re.sub(r'(\\\\x[0-9a-fA-Z]{2})', '', s)\n",
    "  #Remove URL\n",
    "    s = re.sub(r'https?://\\S+|www\\.\\S+', \" \", s)\n",
    "  #Remove Mentions\n",
    "    s = re.sub(r'@\\w+',' ',s)\n",
    "  #Remove Punctuation\n",
    "    s= re.sub(r'[^\\w\\s\\d]',' ',s)\n",
    "  #Remove Digits\n",
    "    s = re.sub(r'\\d+', ' ', s)\n",
    "  #Remove HTML tags\n",
    "    s = re.sub('r<.*?>',' ', s)\n",
    "  #Remove Hastags\n",
    "    s = re.sub(r'#\\w+', ' ', s)\n",
    "    s = re.sub(r'[^a-zA-Z]', ' ', s) # remove symbol dan angka\n",
    "    hasil=[]\n",
    "    word_token = tokenizer.tokenize(s) #tokenisasi\n",
    "    for word in word_token:\n",
    "        word = word.strip().lower()   #case folding\n",
    "        if word in dict_slang:\n",
    "            word = dict_slang[word]\n",
    "        if len(word) > 3:\n",
    "          #word = lemmatizer.lemmatize(word) #lemmatization\n",
    "          hasil.append(word)\n",
    "        else:\n",
    "            continue\n",
    "    result_sentence = \" \".join(hasil).strip() #penggabungan kata hasil pre prosesing\n",
    "    #print(result_sentence)\n",
    "    return result_sentence"
   ]
  },
  {
   "cell_type": "code",
   "execution_count": 15,
   "metadata": {},
   "outputs": [
    {
     "name": "stderr",
     "output_type": "stream",
     "text": [
      "100%|██████████| 67950/67950 [00:31<00:00, 2176.42it/s]\n",
      "100%|██████████| 1209/1209 [00:00<00:00, 2864.41it/s]\n"
     ]
    }
   ],
   "source": [
    "data_raw_bungs = bungs\n",
    "data_raw_catatanali07 = catatanali07\n",
    "\n",
    "#Melakukan Proses Pre Prosesing pada Kolom text Dataset \n",
    "result_preprocess_bungs = []\n",
    "for i, row in tqdm(data_raw_bungs.iterrows(), total=data_raw_bungs.shape[0]):\n",
    "  result_preprocess_bungs.append(preprocess(row['Tweet Text']))\n",
    "\n",
    "#Melakukan Proses Pre Prosesing pada Kolom text Dataset \n",
    "result_preprocess_catatanali07 = []\n",
    "for i, row in tqdm(data_raw_catatanali07.iterrows(), total=data_raw_catatanali07.shape[0]):\n",
    "  result_preprocess_catatanali07.append(preprocess(row['Tweet Text']))"
   ]
  },
  {
   "cell_type": "code",
   "execution_count": 16,
   "metadata": {},
   "outputs": [
    {
     "name": "stdout",
     "output_type": "stream",
     "text": [
      "Bungs :  (67950, 18)\n",
      "Catatanali07 :  (1209, 18)\n",
      "Bungs Preprocessed :  (48569, 18)\n",
      "Catatanali07 Preprocessed :  (734, 18)\n"
     ]
    }
   ],
   "source": [
    "data_raw_bungs['text_clean'] = result_preprocess_bungs\n",
    "data_raw_catatanali07['text_clean'] = result_preprocess_catatanali07\n",
    "\n",
    "print(\"Bungs : \", data_raw_bungs.shape)\n",
    "print(\"Catatanali07 : \", data_raw_catatanali07.shape)\n",
    "data_raw_bungs = data_raw_bungs[(data_raw_bungs['text_clean'].str.split(\" \").str.len() > 2)]\n",
    "data_raw_catatanali07 = data_raw_catatanali07[(data_raw_catatanali07['text_clean'].str.split(\" \").str.len() > 2)]\n",
    "\n",
    "print(\"Bungs Preprocessed : \", data_raw_bungs.shape)\n",
    "print(\"Catatanali07 Preprocessed : \", data_raw_catatanali07.shape)\n",
    "\n",
    "data_raw_bungs.to_csv(\"bungs_preprocessed.csv\")\n",
    "data_raw_catatanali07.to_csv(\"catatanali07_preprocessed.csv\")"
   ]
  }
 ],
 "metadata": {
  "kernelspec": {
   "display_name": "Python 3.9.7 ('base')",
   "language": "python",
   "name": "python3"
  },
  "language_info": {
   "codemirror_mode": {
    "name": "ipython",
    "version": 3
   },
   "file_extension": ".py",
   "mimetype": "text/x-python",
   "name": "python",
   "nbconvert_exporter": "python",
   "pygments_lexer": "ipython3",
   "version": "3.9.7"
  },
  "orig_nbformat": 4,
  "vscode": {
   "interpreter": {
    "hash": "ad2bdc8ecc057115af97d19610ffacc2b4e99fae6737bb82f5d7fb13d2f2c186"
   }
  }
 },
 "nbformat": 4,
 "nbformat_minor": 2
}
