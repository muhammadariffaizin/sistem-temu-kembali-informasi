{
 "cells": [
  {
   "cell_type": "markdown",
   "metadata": {},
   "source": [
    "# Initialization"
   ]
  },
  {
   "cell_type": "code",
   "execution_count": null,
   "metadata": {},
   "outputs": [],
   "source": [
    "import matplotlib.pyplot as plt\n",
    "import pandas as pd\n",
    "import os\n",
    "import glob\n",
    "from wordcloud import WordCloud\n",
    "from Sastrawi.StopWordRemover.StopWordRemoverFactory import StopWordRemoverFactory"
   ]
  },
  {
   "cell_type": "code",
   "execution_count": null,
   "metadata": {},
   "outputs": [],
   "source": [
    "stop_factory = StopWordRemoverFactory()\n",
    "\n",
    "data_stopword = pd.read_csv('https://raw.githubusercontent.com/muhammadariffaizin/sistem-temu-kembali-informasi/master/list/more_stopword.txt')\n",
    "data_stopword = data_stopword[\"stopword\"].tolist()\n",
    "data_stopword = stop_factory.get_stop_words() + data_stopword\n",
    "data_stopword"
   ]
  },
  {
   "cell_type": "code",
   "execution_count": null,
   "metadata": {},
   "outputs": [],
   "source": [
    "def plot_wordcloud(df, df_name):\n",
    "    plt.figure(figsize=(27,21))\n",
    "    subset = df\n",
    "    text = subset.text_clean.values\n",
    "    cloud = WordCloud(\n",
    "                stopwords=data_stopword,\n",
    "                background_color='black',\n",
    "                collocations=False,\n",
    "                width=2700,\n",
    "                height=2100\n",
    "            ).generate(\" \".join(text))\n",
    "\n",
    "    plt.axis('off')\n",
    "    plt.title(\"Word Cloud \" + df_name, fontsize=30)\n",
    "    plt.imshow(cloud)"
   ]
  },
  {
   "cell_type": "markdown",
   "metadata": {},
   "source": [
    "# Iterating Files"
   ]
  },
  {
   "cell_type": "code",
   "execution_count": null,
   "metadata": {},
   "outputs": [],
   "source": [
    "# use glob to get all the csv files \n",
    "# in the folder\n",
    "path = os.getcwd()\n",
    "csv_files = glob.glob(os.path.join(path, \"bungs_month\", \"*.csv\"))\n",
    "\n",
    "bungs_df = {}\n",
    "# loop over the list of csv files\n",
    "for f in csv_files:\n",
    "    # read the csv file\n",
    "    df = pd.read_csv(f)\n",
    "    # print(f.split(\"\\\\\")[-1].split(\".\")[0])\n",
    "    bungs_df[f.split(\"\\\\\")[-1].split(\".\")[0]] = df"
   ]
  },
  {
   "cell_type": "code",
   "execution_count": null,
   "metadata": {},
   "outputs": [],
   "source": [
    "# use glob to get all the csv files \n",
    "# in the folder\n",
    "path = os.getcwd()\n",
    "csv_files = glob.glob(os.path.join(path, \"catatanali07_month\", \"*.csv\"))\n",
    "\n",
    "catatanali07_df = {}\n",
    "# loop over the list of csv files\n",
    "for f in csv_files:\n",
    "    # read the csv file\n",
    "    df = pd.read_csv(f)\n",
    "    # print(f.split(\"\\\\\")[-1].split(\".\")[0])\n",
    "    catatanali07_df[f.split(\"\\\\\")[-1].split(\".\")[0]] = df"
   ]
  },
  {
   "cell_type": "markdown",
   "metadata": {},
   "source": [
    "# Bungs Plot WordCloud"
   ]
  },
  {
   "cell_type": "code",
   "execution_count": null,
   "metadata": {},
   "outputs": [],
   "source": [
    "for key in bungs_df:\n",
    "    print(key)\n",
    "    plot_wordcloud(bungs_df[key], key)\n",
    "    plt.savefig(\"bungs_month_wc/\" + key + \".png\", bbox_inches='tight')"
   ]
  },
  {
   "cell_type": "markdown",
   "metadata": {},
   "source": [
    "# CatatanAli07 Plot WordCloud"
   ]
  },
  {
   "cell_type": "code",
   "execution_count": null,
   "metadata": {},
   "outputs": [],
   "source": [
    "for key in catatanali07_df:\n",
    "    print(key)\n",
    "    plot_wordcloud(catatanali07_df[key], key)\n",
    "    plt.savefig(\"catatanali07_month_wc/\" + key + \".png\", bbox_inches='tight')"
   ]
  }
 ],
 "metadata": {
  "kernelspec": {
   "display_name": "Python 3.10.2 64-bit",
   "language": "python",
   "name": "python3"
  },
  "language_info": {
   "codemirror_mode": {
    "name": "ipython",
    "version": 3
   },
   "file_extension": ".py",
   "mimetype": "text/x-python",
   "name": "python",
   "nbconvert_exporter": "python",
   "pygments_lexer": "ipython3",
   "version": "3.10.2"
  },
  "orig_nbformat": 4,
  "vscode": {
   "interpreter": {
    "hash": "107d7b120a5b68773a87d4067e673630b35702e55ebab3138143d08b1c4d7cbc"
   }
  }
 },
 "nbformat": 4,
 "nbformat_minor": 2
}
